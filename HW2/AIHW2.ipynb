{
  "nbformat": 4,
  "nbformat_minor": 0,
  "metadata": {
    "colab": {
      "provenance": [],
      "authorship_tag": "ABX9TyPDKtHF1XmhnbmJ1nVafVKB",
      "include_colab_link": true
    },
    "kernelspec": {
      "name": "python3",
      "display_name": "Python 3"
    },
    "language_info": {
      "name": "python"
    }
  },
  "cells": [
    {
      "cell_type": "markdown",
      "metadata": {
        "id": "view-in-github",
        "colab_type": "text"
      },
      "source": [
        "<a href=\"https://colab.research.google.com/github/jarmstrong22/IDS/blob/main/HW2/AIHW2.ipynb\" target=\"_parent\"><img src=\"https://colab.research.google.com/assets/colab-badge.svg\" alt=\"Open In Colab\"/></a>"
      ]
    },
    {
      "cell_type": "code",
      "execution_count": null,
      "metadata": {
        "colab": {
          "base_uri": "https://localhost:8080/"
        },
        "id": "WNjBD1Kb_vnF",
        "outputId": "aab9ef68-815e-487c-d3af-9811ebf259d2"
      },
      "outputs": [
        {
          "output_type": "stream",
          "name": "stdout",
          "text": [
            "Step: 1\n",
            "Large Jug: 0/5 | Small Jug: 0/3\n",
            "Step: 2\n",
            "Large Jug: 5/5 | Small Jug: 0/3\n",
            "Step: 3\n",
            "Large Jug: 2/5 | Small Jug: 3/3\n",
            "Step: 4\n",
            "Large Jug: 2/5 | Small Jug: 0/3\n",
            "Step: 5\n",
            "Large Jug: 0/5 | Small Jug: 2/3\n",
            "Step: 6\n",
            "Large Jug: 5/5 | Small Jug: 2/3\n",
            "Step: 7\n",
            "Large Jug: 4/5 | Small Jug: 3/3\n"
          ]
        }
      ],
      "source": [
        "class WaterJugProblem:\n",
        "    def __init__(self, large_jug_capacity=5, small_jug_capacity=3, goal_amount=4):\n",
        "        self.large_jug_capacity = large_jug_capacity\n",
        "        self.small_jug_capacity = small_jug_capacity\n",
        "        self.goal_amount = goal_amount\n",
        "        self.large_jug = 0\n",
        "        self.small_jug = 0\n",
        "\n",
        "    def empty_small_jug(self):\n",
        "        self.small_jug = 0\n",
        "\n",
        "    def refill_large_jug(self):\n",
        "        self.large_jug = self.large_jug_capacity\n",
        "\n",
        "    def pour_large_to_small(self):\n",
        "        total_space = self.small_jug_capacity - self.small_jug\n",
        "        if self.large_jug <= total_space:\n",
        "            self.small_jug += self.large_jug\n",
        "            self.large_jug = 0\n",
        "        else:\n",
        "            self.small_jug = self.small_jug_capacity\n",
        "            self.large_jug -= total_space\n",
        "\n",
        "    def is_goal_state(self):\n",
        "        return self.large_jug == self.goal_amount\n",
        "\n",
        "    def print_state(self):\n",
        "        print(\"Large Jug: {}/{} | Small Jug: {}/{}\".format(self.large_jug, self.large_jug_capacity,\n",
        "                                                           self.small_jug, self.small_jug_capacity))\n",
        "\n",
        "# Creating the problem instance\n",
        "water_jug_problem = WaterJugProblem()\n",
        "\n",
        "# Solving the problem\n",
        "steps = 0\n",
        "while not water_jug_problem.is_goal_state():\n",
        "    steps += 1\n",
        "    print(\"Step:\", steps)\n",
        "    water_jug_problem.print_state()\n",
        "\n",
        "    # Applying rules\n",
        "    if steps == 1:\n",
        "        water_jug_problem.refill_large_jug()\n",
        "    elif steps == 2:\n",
        "        water_jug_problem.pour_large_to_small()\n",
        "    elif steps == 3:\n",
        "        water_jug_problem.empty_small_jug()\n",
        "    elif steps == 4:\n",
        "        water_jug_problem.pour_large_to_small()\n",
        "    elif steps == 5:\n",
        "        water_jug_problem.refill_large_jug()\n",
        "    elif steps == 6:\n",
        "        water_jug_problem.pour_large_to_small()\n",
        "\n",
        "# Print the final state\n",
        "print(\"Step:\", steps + 1)\n",
        "water_jug_problem.print_state()"
      ]
    }
  ]
}