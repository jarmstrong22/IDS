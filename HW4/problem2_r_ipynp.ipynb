{
  "nbformat": 4,
  "nbformat_minor": 0,
  "metadata": {
    "colab": {
      "provenance": []
    },
    "kernelspec": {
      "name": "ir",
      "display_name": "R"
    },
    "language_info": {
      "name": "R"
    }
  },
  "cells": [
    {
      "cell_type": "markdown",
      "source": [
        "# Author: Jaden Armstrong\n",
        "# Date: 11/03/2023\n",
        "# Name: Problem2_r.ipynp"
      ],
      "metadata": {
        "id": "i1zchx8CBOvZ"
      }
    },
    {
      "cell_type": "markdown",
      "source": [
        "Install the readr package and read in the nutrition_subset data via URL"
      ],
      "metadata": {
        "id": "_RB1GmEHBRvp"
      }
    },
    {
      "cell_type": "code",
      "execution_count": 60,
      "metadata": {
        "id": "rlgjD7OILcwh"
      },
      "outputs": [],
      "source": [
        "library(readr)\n",
        "data <- read_csv(\"https://raw.githubusercontent.com/bforoura/IDS/main/HW4/nutrition_subset.csv\", show_col_types = FALSE)"
      ]
    },
    {
      "cell_type": "markdown",
      "source": [
        "Summarize data to view the distribution of the data and determine if cleansing needs to be done. We know from our python analysis of this data that no null values exist originally."
      ],
      "metadata": {
        "id": "WHN2j2CIBZkP"
      }
    },
    {
      "cell_type": "code",
      "source": [
        "summary(data)"
      ],
      "metadata": {
        "colab": {
          "base_uri": "https://localhost:8080/",
          "height": 138
        },
        "id": "xqHB8gLcnE3G",
        "outputId": "d9bbd6ad-8e34-4792-b61f-f30e19e0cc09"
      },
      "execution_count": 61,
      "outputs": [
        {
          "output_type": "display_data",
          "data": {
            "text/plain": [
              "  food item         weight_in_grams  saturated_fat      cholesterol     \n",
              " Length:961         Min.   :   0.4   Min.   :  0.000   Min.   :   0.00  \n",
              " Class :character   1st Qu.:  32.0   1st Qu.:  0.000   1st Qu.:   0.00  \n",
              " Mode  :character   Median : 113.0   Median :  0.400   Median :   0.00  \n",
              "                    Mean   : 149.4   Mean   :  3.988   Mean   :  32.55  \n",
              "                    3rd Qu.: 218.0   3rd Qu.:  3.300   3rd Qu.:  20.00  \n",
              "                    Max.   :1542.0   Max.   :119.900   Max.   :2053.00  "
            ]
          },
          "metadata": {}
        }
      ]
    },
    {
      "cell_type": "markdown",
      "source": [
        "Outliers do exist in this data set as seen by the glarily large maxes compared to the low means and quartiles. Manual calculation was done to confirm each of these fields have outliers\n",
        "\n",
        "---\n",
        "\n",
        "Rename data to food_data for clarity reasons"
      ],
      "metadata": {
        "id": "LWDm7V6NBrdF"
      }
    },
    {
      "cell_type": "code",
      "source": [
        "food_data <- data\n"
      ],
      "metadata": {
        "id": "5RnjqZP3qrdF"
      },
      "execution_count": 62,
      "outputs": []
    },
    {
      "cell_type": "markdown",
      "source": [
        "Begin to remove outliers"
      ],
      "metadata": {
        "id": "MbseZq5BBxbd"
      }
    },
    {
      "cell_type": "code",
      "source": [
        "# Calculate the mean and standard deviation for each numeric variable\n",
        "mean_weight <- mean(food_data$weight_in_grams)\n",
        "sd_weight <- sd(food_data$weight_in_grams)\n",
        "\n",
        "mean_fat <- mean(food_data$saturated_fat)\n",
        "sd_fat <- sd(food_data$saturated_fat)\n",
        "\n",
        "mean_cholesterol <- mean(food_data$cholesterol)\n",
        "sd_cholesterol <- sd(food_data$cholesterol)\n",
        "\n",
        "# Replace values that are 3 standard deviations above or below the mean with NA\n",
        "food_data$weight_in_grams[food_data$weight_in_grams < (mean_weight - 3 * sd_weight) | food_data$weight_in_grams > (mean_weight + 3 * sd_weight)] <- NA\n",
        "food_data$saturated_fat[food_data$saturated_fat < (mean_fat - 3 * sd_fat) | food_data$saturated_fat > (mean_fat + 3 * sd_fat)] <- NA\n",
        "food_data$cholesterol[food_data$cholesterol < (mean_cholesterol - 3 * sd_cholesterol) | food_data$cholesterol > (mean_cholesterol + 3 * sd_cholesterol)] <- NA\n",
        "\n",
        "# Impute missing values with the mean\n",
        "food_data$weight_in_grams[is.na(food_data$weight_in_grams)] <- mean_weight\n",
        "food_data$saturated_fat[is.na(food_data$saturated_fat)] <- mean_fat\n",
        "food_data$cholesterol[is.na(food_data$cholesterol)] <- mean_cholesterol\n",
        "\n",
        "summary(food_data)"
      ],
      "metadata": {
        "colab": {
          "base_uri": "https://localhost:8080/",
          "height": 138
        },
        "id": "acKdm2pynLel",
        "outputId": "0e26d277-e5a1-4eb0-a36b-80adbb7a4329"
      },
      "execution_count": 63,
      "outputs": [
        {
          "output_type": "display_data",
          "data": {
            "text/plain": [
              "  food item         weight_in_grams saturated_fat     cholesterol    \n",
              " Length:961         Min.   :  0.4   Min.   : 0.000   Min.   :  0.00  \n",
              " Class :character   1st Qu.: 32.0   1st Qu.: 0.000   1st Qu.:  0.00  \n",
              " Mode  :character   Median :113.0   Median : 0.400   Median :  0.00  \n",
              "                    Mean   :128.5   Mean   : 2.756   Mean   : 19.41  \n",
              "                    3rd Qu.:210.0   3rd Qu.: 3.300   3rd Qu.: 20.00  \n",
              "                    Max.   :635.0   Max.   :36.200   Max.   :326.00  "
            ]
          },
          "metadata": {}
        }
      ]
    },
    {
      "cell_type": "markdown",
      "source": [
        "By looking at the new spread of the data, we can see that it is still heavily left skewed. I am going to repeat the last code in an attempt to remove outliers that exist in the updated data set."
      ],
      "metadata": {
        "id": "N8mpZDyg-RpO"
      }
    },
    {
      "cell_type": "code",
      "source": [
        "# Calculate the mean and standard deviation for each numeric variable\n",
        "mean_weight <- mean(food_data$weight_in_grams)\n",
        "sd_weight <- sd(food_data$weight_in_grams)\n",
        "\n",
        "mean_fat <- mean(food_data$saturated_fat)\n",
        "sd_fat <- sd(food_data$saturated_fat)\n",
        "\n",
        "mean_cholesterol <- mean(food_data$cholesterol)\n",
        "sd_cholesterol <- sd(food_data$cholesterol)\n",
        "\n",
        "# Replace values that are 3 standard deviations above or below the mean with NA\n",
        "food_data$weight_in_grams[food_data$weight_in_grams < (mean_weight - 3 * sd_weight) | food_data$weight_in_grams > (mean_weight + 3 * sd_weight)] <- NA\n",
        "food_data$saturated_fat[food_data$saturated_fat < (mean_fat - 3 * sd_fat) | food_data$saturated_fat > (mean_fat + 3 * sd_fat)] <- NA\n",
        "food_data$cholesterol[food_data$cholesterol < (mean_cholesterol - 3 * sd_cholesterol) | food_data$cholesterol > (mean_cholesterol + 3 * sd_cholesterol)] <- NA\n",
        "\n",
        "# Impute missing values with the mean\n",
        "food_data$weight_in_grams[is.na(food_data$weight_in_grams)] <- mean_weight\n",
        "food_data$saturated_fat[is.na(food_data$saturated_fat)] <- mean_fat\n",
        "food_data$cholesterol[is.na(food_data$cholesterol)] <- mean_cholesterol\n",
        "\n",
        "summary(food_data)"
      ],
      "metadata": {
        "colab": {
          "base_uri": "https://localhost:8080/",
          "height": 138
        },
        "id": "HSOCbwbLCsAV",
        "outputId": "0879a040-5e08-495a-a84e-cfae91752493"
      },
      "execution_count": 64,
      "outputs": [
        {
          "output_type": "display_data",
          "data": {
            "text/plain": [
              "  food item         weight_in_grams saturated_fat     cholesterol    \n",
              " Length:961         Min.   :  0.4   Min.   : 0.000   Min.   :  0.00  \n",
              " Class :character   1st Qu.: 32.0   1st Qu.: 0.000   1st Qu.:  0.00  \n",
              " Mode  :character   Median :113.0   Median : 0.400   Median :  0.00  \n",
              "                    Mean   :122.2   Mean   : 1.985   Mean   : 13.91  \n",
              "                    3rd Qu.:195.0   3rd Qu.: 2.756   3rd Qu.: 19.41  \n",
              "                    Max.   :430.0   Max.   :17.900   Max.   :146.00  "
            ]
          },
          "metadata": {}
        }
      ]
    },
    {
      "cell_type": "code",
      "source": [
        "install.packages(\"Hmisc\")\n",
        "library(Hmisc)"
      ],
      "metadata": {
        "colab": {
          "base_uri": "https://localhost:8080/"
        },
        "id": "DBOWZN_PsBL6",
        "outputId": "5ff6bc13-8244-4738-9450-4b0b6b05bf6f"
      },
      "execution_count": 65,
      "outputs": [
        {
          "output_type": "stream",
          "name": "stderr",
          "text": [
            "Installing package into ‘/usr/local/lib/R/site-library’\n",
            "(as ‘lib’ is unspecified)\n",
            "\n"
          ]
        }
      ]
    },
    {
      "cell_type": "markdown",
      "source": [
        "\n",
        "\n",
        "---\n",
        "\n",
        "List of saturated_ fat entries sorted by the five food items that are highest in saturated fat"
      ],
      "metadata": {
        "id": "EmOKKiaS8AXG"
      }
    },
    {
      "cell_type": "code",
      "source": [
        "head(food_data[order(food_data$saturated_fat, decreasing=TRUE), 1:3], 5)"
      ],
      "metadata": {
        "colab": {
          "base_uri": "https://localhost:8080/",
          "height": 255
        },
        "id": "KZ6NNT3rsuMc",
        "outputId": "0c9c887e-5c42-453f-c6c9-7238b5b03704"
      },
      "execution_count": 66,
      "outputs": [
        {
          "output_type": "display_data",
          "data": {
            "text/html": [
              "<table class=\"dataframe\">\n",
              "<caption>A tibble: 5 × 3</caption>\n",
              "<thead>\n",
              "\t<tr><th scope=col>food item</th><th scope=col>weight_in_grams</th><th scope=col>saturated_fat</th></tr>\n",
              "\t<tr><th scope=col>&lt;chr&gt;</th><th scope=col>&lt;dbl&gt;</th><th scope=col>&lt;dbl&gt;</th></tr>\n",
              "</thead>\n",
              "<tbody>\n",
              "\t<tr><td>MARGARINE; REGULR;HARD;80% FAT1/2 CUP</td><td>113</td><td>17.9</td></tr>\n",
              "\t<tr><td>MARGARINE; IMITATION 40% FAT  8 OZ   </td><td>227</td><td>17.5</td></tr>\n",
              "\t<tr><td>HALF AND HALF; CREAM          1 CUP  </td><td>242</td><td>17.3</td></tr>\n",
              "\t<tr><td>SWEETENED CONDENSED MILK CNND 1 CUP  </td><td>306</td><td>16.8</td></tr>\n",
              "\t<tr><td>IMITATION WHIPPED TOPPING;FRZN1 CUP  </td><td> 75</td><td>16.3</td></tr>\n",
              "</tbody>\n",
              "</table>\n"
            ],
            "text/markdown": "\nA tibble: 5 × 3\n\n| food item &lt;chr&gt; | weight_in_grams &lt;dbl&gt; | saturated_fat &lt;dbl&gt; |\n|---|---|---|\n| MARGARINE; REGULR;HARD;80% FAT1/2 CUP | 113 | 17.9 |\n| MARGARINE; IMITATION 40% FAT  8 OZ    | 227 | 17.5 |\n| HALF AND HALF; CREAM          1 CUP   | 242 | 17.3 |\n| SWEETENED CONDENSED MILK CNND 1 CUP   | 306 | 16.8 |\n| IMITATION WHIPPED TOPPING;FRZN1 CUP   |  75 | 16.3 |\n\n",
            "text/latex": "A tibble: 5 × 3\n\\begin{tabular}{lll}\n food item & weight\\_in\\_grams & saturated\\_fat\\\\\n <chr> & <dbl> & <dbl>\\\\\n\\hline\n\t MARGARINE; REGULR;HARD;80\\% FAT1/2 CUP & 113 & 17.9\\\\\n\t MARGARINE; IMITATION 40\\% FAT  8 OZ    & 227 & 17.5\\\\\n\t HALF AND HALF; CREAM          1 CUP   & 242 & 17.3\\\\\n\t SWEETENED CONDENSED MILK CNND 1 CUP   & 306 & 16.8\\\\\n\t IMITATION WHIPPED TOPPING;FRZN1 CUP   &  75 & 16.3\\\\\n\\end{tabular}\n",
            "text/plain": [
              "  food item                             weight_in_grams saturated_fat\n",
              "1 MARGARINE; REGULR;HARD;80% FAT1/2 CUP 113             17.9         \n",
              "2 MARGARINE; IMITATION 40% FAT  8 OZ    227             17.5         \n",
              "3 HALF AND HALF; CREAM          1 CUP   242             17.3         \n",
              "4 SWEETENED CONDENSED MILK CNND 1 CUP   306             16.8         \n",
              "5 IMITATION WHIPPED TOPPING;FRZN1 CUP    75             16.3         "
            ]
          },
          "metadata": {}
        }
      ]
    },
    {
      "cell_type": "markdown",
      "source": [
        "Comment: This is not an effective representation of items with the highest saturated fat, since different food items are not scaled the same (Must compare the saturated_fat in terms of per grams)"
      ],
      "metadata": {
        "id": "6t0J3OVB843r"
      }
    },
    {
      "cell_type": "code",
      "source": [
        "# Create the new variable saturated_fat_per_gram\n",
        "food_data$saturated_fat_per_gram <- food_data$saturated_fat / food_data$weight_in_grams\n",
        "\n",
        "# Sort the data by saturated_fat_per_gram in descending order and list the top 5 items\n",
        "top_5_saturated_fat_per_gram <- head(food_data[order(food_data$saturated_fat_per_gram, decreasing = TRUE), ], 5)\n",
        "\n",
        "# Print the top 5 items\n",
        "top_5_saturated_fat_per_gram"
      ],
      "metadata": {
        "colab": {
          "base_uri": "https://localhost:8080/",
          "height": 255
        },
        "id": "jMU1palv9Yr8",
        "outputId": "f2e75ce6-44b3-4684-9a75-b59bbbea986a"
      },
      "execution_count": 67,
      "outputs": [
        {
          "output_type": "display_data",
          "data": {
            "text/html": [
              "<table class=\"dataframe\">\n",
              "<caption>A tibble: 5 × 5</caption>\n",
              "<thead>\n",
              "\t<tr><th scope=col>food item</th><th scope=col>weight_in_grams</th><th scope=col>saturated_fat</th><th scope=col>cholesterol</th><th scope=col>saturated_fat_per_gram</th></tr>\n",
              "\t<tr><th scope=col>&lt;chr&gt;</th><th scope=col>&lt;dbl&gt;</th><th scope=col>&lt;dbl&gt;</th><th scope=col>&lt;dbl&gt;</th><th scope=col>&lt;dbl&gt;</th></tr>\n",
              "</thead>\n",
              "<tbody>\n",
              "\t<tr><td>BUTTER; SALTED                1 TBSP</td><td>14</td><td>7.1</td><td>31</td><td>0.5071429</td></tr>\n",
              "\t<tr><td>BUTTER; UNSALTED              1 TBSP</td><td>14</td><td>7.1</td><td>31</td><td>0.5071429</td></tr>\n",
              "\t<tr><td>BUTTER; SALTED                1 PAT </td><td> 5</td><td>2.5</td><td>11</td><td>0.5000000</td></tr>\n",
              "\t<tr><td>BUTTER; UNSALTED              1 PAT </td><td> 5</td><td>2.5</td><td>11</td><td>0.5000000</td></tr>\n",
              "\t<tr><td>LARD                          1 TBSP</td><td>13</td><td>5.1</td><td>12</td><td>0.3923077</td></tr>\n",
              "</tbody>\n",
              "</table>\n"
            ],
            "text/markdown": "\nA tibble: 5 × 5\n\n| food item &lt;chr&gt; | weight_in_grams &lt;dbl&gt; | saturated_fat &lt;dbl&gt; | cholesterol &lt;dbl&gt; | saturated_fat_per_gram &lt;dbl&gt; |\n|---|---|---|---|---|\n| BUTTER; SALTED                1 TBSP | 14 | 7.1 | 31 | 0.5071429 |\n| BUTTER; UNSALTED              1 TBSP | 14 | 7.1 | 31 | 0.5071429 |\n| BUTTER; SALTED                1 PAT  |  5 | 2.5 | 11 | 0.5000000 |\n| BUTTER; UNSALTED              1 PAT  |  5 | 2.5 | 11 | 0.5000000 |\n| LARD                          1 TBSP | 13 | 5.1 | 12 | 0.3923077 |\n\n",
            "text/latex": "A tibble: 5 × 5\n\\begin{tabular}{lllll}\n food item & weight\\_in\\_grams & saturated\\_fat & cholesterol & saturated\\_fat\\_per\\_gram\\\\\n <chr> & <dbl> & <dbl> & <dbl> & <dbl>\\\\\n\\hline\n\t BUTTER; SALTED                1 TBSP & 14 & 7.1 & 31 & 0.5071429\\\\\n\t BUTTER; UNSALTED              1 TBSP & 14 & 7.1 & 31 & 0.5071429\\\\\n\t BUTTER; SALTED                1 PAT  &  5 & 2.5 & 11 & 0.5000000\\\\\n\t BUTTER; UNSALTED              1 PAT  &  5 & 2.5 & 11 & 0.5000000\\\\\n\t LARD                          1 TBSP & 13 & 5.1 & 12 & 0.3923077\\\\\n\\end{tabular}\n",
            "text/plain": [
              "  food item                            weight_in_grams saturated_fat\n",
              "1 BUTTER; SALTED                1 TBSP 14              7.1          \n",
              "2 BUTTER; UNSALTED              1 TBSP 14              7.1          \n",
              "3 BUTTER; SALTED                1 PAT   5              2.5          \n",
              "4 BUTTER; UNSALTED              1 PAT   5              2.5          \n",
              "5 LARD                          1 TBSP 13              5.1          \n",
              "  cholesterol saturated_fat_per_gram\n",
              "1 31          0.5071429             \n",
              "2 31          0.5071429             \n",
              "3 11          0.5000000             \n",
              "4 11          0.5000000             \n",
              "5 12          0.3923077             "
            ]
          },
          "metadata": {}
        }
      ]
    },
    {
      "cell_type": "markdown",
      "source": [
        "Standardize Saturated_fat_per_gram"
      ],
      "metadata": {
        "id": "sa8cAJBSCdQX"
      }
    },
    {
      "cell_type": "code",
      "source": [
        "# Standardize the variable saturated_fat_per_gram\n",
        "food_data$standardized_saturated_fat_per_gram <- scale(food_data$saturated_fat_per_gram)\n",
        "\n",
        "# Identify outliers at the high end\n",
        "outliers_high <- head(food_data[food_data$standardized_saturated_fat_per_gram > 2, ], 5)\n",
        "\n",
        "# Count the number of outliers at the low end\n",
        "outliers_low <- sum(food_data$standardized_saturated_fat_per_gram < -2)\n",
        "\n",
        "# Print the food items that are outliers at the high end\n",
        "#outliers_high\n",
        "summary(food_data$standardized_saturated_fat_per_gram)\n",
        "# Print the number of outliers at the low end\n",
        "#outliers_low"
      ],
      "metadata": {
        "colab": {
          "base_uri": "https://localhost:8080/",
          "height": 138
        },
        "id": "L8HFM1hx9nf0",
        "outputId": "bc6ddf0b-7f4c-4e39-d313-6fa295b6126d"
      },
      "execution_count": 68,
      "outputs": [
        {
          "output_type": "display_data",
          "data": {
            "text/plain": [
              "       V1         \n",
              " Min.   :-0.5579  \n",
              " 1st Qu.:-0.5579  \n",
              " Median :-0.4098  \n",
              " Mean   : 0.0000  \n",
              " 3rd Qu.: 0.1223  \n",
              " Max.   : 8.3271  "
            ]
          },
          "metadata": {}
        }
      ]
    },
    {
      "cell_type": "markdown",
      "source": [
        "Create a density plot for saturated_fat_per_gram by installing ggplot2"
      ],
      "metadata": {
        "id": "twtJoAKPCvhO"
      }
    },
    {
      "cell_type": "code",
      "source": [
        "install.packages(\"ggplot2\")"
      ],
      "metadata": {
        "colab": {
          "base_uri": "https://localhost:8080/"
        },
        "id": "WwIOFGp29x1m",
        "outputId": "8f69bbe9-a681-4ea4-ce17-c97989a2bce4"
      },
      "execution_count": 69,
      "outputs": [
        {
          "output_type": "stream",
          "name": "stderr",
          "text": [
            "Installing package into ‘/usr/local/lib/R/site-library’\n",
            "(as ‘lib’ is unspecified)\n",
            "\n"
          ]
        }
      ]
    },
    {
      "cell_type": "code",
      "source": [
        "library(ggplot2)\n",
        "\n",
        "# Create a density plot for saturated_fat_per_gram\n",
        "ggplot(food_data, aes(x = standardized_saturated_fat_per_gram)) +\n",
        "  geom_density(fill = \"blue\", alpha = 0.6) +\n",
        "  labs(title = \"Density Plot for Saturated Fat per Gram\", x = \"Standardized Saturated Fat per Gram\")"
      ],
      "metadata": {
        "colab": {
          "base_uri": "https://localhost:8080/",
          "height": 437
        },
        "id": "Mfzv3qsy92QV",
        "outputId": "47480288-e2a6-4ce7-9f00-63a9411602d6"
      },
      "execution_count": 70,
      "outputs": [
        {
          "output_type": "display_data",
          "data": {
            "text/plain": [
              "plot without title"
            ],
            "image/png": "[encoded data removed]"
          },
          "metadata": {
            "image/png": {
              "width": 420,
              "height": 420
            }
          }
        }
      ]
    },
    {
      "cell_type": "markdown",
      "source": [
        "Check for missing values in the enitre data set"
      ],
      "metadata": {
        "id": "1EIf1PyQAGKm"
      }
    },
    {
      "cell_type": "code",
      "source": [
        "# Print missing values in the entire data frame\n",
        "missing_values <- sum(is.na(food_data))\n",
        "print(paste(\"Total missing values:\", missing_values))"
      ],
      "metadata": {
        "colab": {
          "base_uri": "https://localhost:8080/"
        },
        "id": "lMp3wn8W_-Xq",
        "outputId": "4bbeb2e6-8a3f-47f7-cfc8-e060100cc69e"
      },
      "execution_count": 71,
      "outputs": [
        {
          "output_type": "stream",
          "name": "stdout",
          "text": [
            "[1] \"Total missing values: 0\"\n"
          ]
        }
      ]
    },
    {
      "cell_type": "markdown",
      "source": [
        "There are no missing values, so nothing needs to be done\n"
      ],
      "metadata": {
        "id": "B3j8mYdLAKJt"
      }
    },
    {
      "cell_type": "markdown",
      "source": [
        "\n",
        "Standardize (zero mean) the numeric values\n"
      ],
      "metadata": {
        "id": "URzftjTbD2K1"
      }
    },
    {
      "cell_type": "code",
      "source": [
        "# Impute standardized_saturated_fat_per_gram values back to saturated_fat_per_gram\n",
        "food_data$saturated_fat_per_gram <- food_data$standardized_saturated_fat_per_gram\n",
        "\n",
        "# Delete the standardized_saturated_fat_per_gram column\n",
        "food_data$standardized_saturated_fat_per_gram <- NULL\n",
        "\n",
        "# Standarize cholesterol\n",
        "# Create the new variable Cholesterol_per_gram\n",
        "food_data$cholesterol_per_gram <- food_data$cholesterol / food_data$weight_in_grams\n",
        "# Standardize cholesterol_per_gram\n",
        "food_data$Cholesterol_per_gram <- scale(food_data$cholesterol_per_gram)\n",
        "\n",
        "ggplot(food_data, aes(x = cholesterol_per_gram)) +\n",
        "  geom_density(fill = \"blue\", alpha = 0.6) +\n",
        "  labs(title = \"Density Plot for Cholesterol per Gram\", x = \"Standardized Cholesterol Fat per Gram\")\n"
      ],
      "metadata": {
        "colab": {
          "base_uri": "https://localhost:8080/",
          "height": 437
        },
        "id": "7K_oDhwIAWm5",
        "outputId": "8980f180-41b8-47cf-9158-71e8caf80ab0"
      },
      "execution_count": 72,
      "outputs": [
        {
          "output_type": "display_data",
          "data": {
            "text/plain": [
              "plot without title"
            ],
            "image/png": "[encoded data removed]"
          },
          "metadata": {
            "image/png": {
              "width": 420,
              "height": 420
            }
          }
        }
      ]
    },
    {
      "cell_type": "markdown",
      "source": [
        "Determine if there are any outliers"
      ],
      "metadata": {
        "id": "51RxSLGgEngk"
      }
    },
    {
      "cell_type": "code",
      "source": [
        "# Calculate and identify outliers\n",
        "Q1 <- quantile(food_data$Cholesterol_per_gram, 0.25)\n",
        "Q3 <- quantile(food_data$Cholesterol_per_gram, 0.75)\n",
        "IQR <- Q3 - Q1\n",
        "\n",
        "# Define lower and upper bounds for identifying outliers\n",
        "lower_bound <- Q1 - 1.5 * IQR\n",
        "upper_bound <- Q3 + 1.5 * IQR\n",
        "\n",
        "# Identify outliers\n",
        "outliers <- food_data$Cholesterol_per_gram < lower_bound | food_data$Cholesterol_per_gram > upper_bound\n",
        "\n",
        "# Print the number of outliers\n",
        "cat(\"Number of outliers:\", sum(outliers), \"\\n\")\n",
        "\n",
        "# You can also print the outlier values if needed\n",
        "cat(\"Outlier values:\", food_data$Cholesterol_per_gram[outliers], \"\\n\")"
      ],
      "metadata": {
        "colab": {
          "base_uri": "https://localhost:8080/"
        },
        "id": "LKiNJJIbE4Rn",
        "outputId": "d854379e-22b7-47f7-895e-6815046e3047"
      },
      "execution_count": 73,
      "outputs": [
        {
          "output_type": "stream",
          "name": "stdout",
          "text": [
            "Number of outliers: 158 \n",
            "Outlier values: 1.490177 1.525523 1.550797 2.635439 0.9561325 1.277003 1.143617 2.395752 1.959056 2.021159 2.617888 1.772582 1.65721 1.674224 2.219314 1.775448 1.898303 1.937328 1.461597 1.283198 1.281216 1.442483 2.244867 1.669729 1.164265 0.8661463 1.846765 1.52232 1.559083 1.915854 1.969112 1.993078 1.779294 1.883944 1.623006 1.818395 1.372397 2.294127 2.085994 2.769858 1.798371 1.745888 1.907595 2.115728 1.848129 15.45107 1.550797 1.677163 0.9040994 2.190455 1.729196 3.334789 1.639996 1.877862 1.58053 1.312931 2.203354 1.668471 1.935912 1.311882 1.012367 2.141452 2.056261 1.788662 1.372397 2.204927 1.667442 1.669729 1.705244 1.095167 1.875738 1.818395 0.8669329 1.045332 1.104799 1.133588 1.935912 1.401029 1.490177 1.324668 1.758929 2.056261 1.283198 0.9477864 1.49133 1.550797 1.164265 2.414918 0.9552935 0.9477864 2.056261 1.494634 0.8837919 1.278623 1.134532 1.757618 1.108515 3.475109 1.169481 2.056261 0.8074665 0.9034474 1.093472 0.8028736 1.494634 0.8206813 0.8817995 1.164265 1.045332 2.966097 1.517099 3.88371 1.026611 1.026611 1.401029 1.668471 2.292501 1.701549 1.178719 5.106478 1.101495 0.876844 1.887773 0.8206813 2.056261 2.224749 1.661367 0.9505575 1.706324 0.9009137 1.268762 1.803529 1.108515 1.321574 0.8841695 0.8475417 1.055863 1.477083 0.9442392 1.341295 1.99859 0.8828614 2.110418 1.466553 0.991026 0.9207974 1.031671 1.440381 0.9731229 1.861852 5.125153 5.125153 5.089048 5.089048 3.06719 1.21382 2.393237 1.21382 \n"
          ]
        }
      ]
    },
    {
      "cell_type": "markdown",
      "source": [
        "Outliers do exist, but that is very expected since many of the food items are very different in size, one ite may be 40 times larger in grams than a similar item so it is expected their values are much higher.\n",
        "\n",
        "\n",
        "---\n",
        "\n",
        "\n",
        "In conclusion, it is normal for there to be so many 0's in the data set for cholesterol and some for saturated_fat. Although this is because some items are much heavier in scale than the other majority of items so it is important to remove the large ones since it will skew our analysis. If you were to keep imputing the outliers with the mean of cholesterol, 0, then after a while the spread of data will go closer to 0 since the mean is still 0 which would effective remove outliers that are less than 3 standard deviations from the mean originally. Other than that, the analyses of standardized numeric values was helpful and the ploting of those values were successful."
      ],
      "metadata": {
        "id": "t8pqoSrNE7gv"
      }
    }
  ]
}