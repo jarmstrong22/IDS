{
  "nbformat": 4,
  "nbformat_minor": 0,
  "metadata": {
    "colab": {
      "provenance": []
    },
    "kernelspec": {
      "name": "ir",
      "display_name": "R"
    },
    "language_info": {
      "name": "R"
    }
  },
  "cells": [
    {
      "cell_type": "markdown",
      "source": [
        "# Author: Jaden Armstrong\n",
        "# Date: 11/03/2023\n",
        "# Name: Problem1_R.ipynb"
      ],
      "metadata": {
        "id": "XCJnV4us2RT7"
      }
    },
    {
      "cell_type": "markdown",
      "source": [
        "Read in adult_training data set by URL using readr"
      ],
      "metadata": {
        "id": "DiU7wSBx2eCy"
      }
    },
    {
      "cell_type": "code",
      "source": [
        "library(readr)\n",
        "adultTraining_data <- read_csv(\"https://raw.githubusercontent.com/bforoura/IDS/main/HW4/adult_training.csv\", show_col_types = FALSE)\n"
      ],
      "metadata": {
        "id": "gmDmm-1MLop7"
      },
      "execution_count": null,
      "outputs": []
    },
    {
      "cell_type": "markdown",
      "source": [
        "First step is data Cleansing\n",
        "\n",
        "---\n",
        "\n",
        "Summarize adultTraining_data to investigate the distribution of the numeric value fields as well as see if any null values exist"
      ],
      "metadata": {
        "id": "jrhDRfIKL6JE"
      }
    },
    {
      "cell_type": "code",
      "execution_count": null,
      "metadata": {
        "colab": {
          "base_uri": "https://localhost:8080/",
          "height": 381
        },
        "id": "mRJrODLvLUQO",
        "outputId": "ddf4bcfe-ba9b-46c0-cb55-acb98b0db4f9"
      },
      "outputs": [
        {
          "output_type": "display_data",
          "data": {
            "text/plain": [
              "      age         workclass           education     marital-status    \n",
              " Min.   :17.00   Length:14797       Min.   : 1.00   Length:14797      \n",
              " 1st Qu.:28.00   Class :character   1st Qu.: 9.00   Class :character  \n",
              " Median :37.00   Mode  :character   Median :10.00   Mode  :character  \n",
              " Mean   :38.69                      Mean   :10.07                     \n",
              " 3rd Qu.:48.00                      3rd Qu.:12.00                     \n",
              " Max.   :90.00                      Max.   :16.00                     \n",
              "  occupation            sex             capital-gain    capital-loss    \n",
              " Length:14797       Length:14797       Min.   :    0   Min.   :   0.00  \n",
              " Class :character   Class :character   1st Qu.:    0   1st Qu.:   0.00  \n",
              " Mode  :character   Mode  :character   Median :    0   Median :   0.00  \n",
              "                                       Mean   : 1067   Mean   :  88.58  \n",
              "                                       3rd Qu.:    0   3rd Qu.:   0.00  \n",
              "                                       Max.   :99999   Max.   :4356.00  \n",
              "    income         \n",
              " Length:14797      \n",
              " Class :character  \n",
              " Mode  :character  \n",
              "                   \n",
              "                   \n",
              "                   "
            ]
          },
          "metadata": {}
        }
      ],
      "source": [
        "summary(adultTraining_data)"
      ]
    },
    {
      "cell_type": "markdown",
      "source": [
        "No Null values exist in this data set. Data cleansing for capital-loss and capital-gain is needed\n",
        "\n",
        "---\n",
        "Rename columns that include a '-' to avoid issues in later functions used. (The rest of the operators are commented within the code)\n"
      ],
      "metadata": {
        "id": "3GwM3jVa21em"
      }
    },
    {
      "cell_type": "code",
      "source": [
        "# Rename the column \"capital-loss\" to \"caploss\"\n",
        "colnames(adultTraining_data)[colnames(adultTraining_data) == \"capital-loss\"] <- \"caploss\"\n",
        "# Rename the column \"capital-gain\" to \"capgain\"\n",
        "colnames(adultTraining_data)[colnames(adultTraining_data) == \"capital-gain\"] <- \"capgain\"\n",
        "# Rename the column \"martial_status\" to \"martialstatus\"\n",
        "colnames(adultTraining_data)[colnames(adultTraining_data) == \"marital-status\"] <- \"maritalstatus\""
      ],
      "metadata": {
        "id": "xDFL1U6FOWFw"
      },
      "execution_count": null,
      "outputs": []
    },
    {
      "cell_type": "code",
      "source": [
        "# Calculate the mean and standard deviation for capital_loss and capital_gain\n",
        "mean_loss <- mean(adultTraining_data$caploss, na.rm = TRUE)\n",
        "sd_loss <- sd(adultTraining_data$caploss, na.rm = TRUE)\n",
        "\n",
        "# mean and standard deviation from capgain\n",
        "mean_gain <- mean(adultTraining_data$capgain, na.rm = TRUE)\n",
        "sd_gain <- sd(adultTraining_data$capgain, na.rm = TRUE)\n",
        "\n",
        "# Identify and replace outliers with NA\n",
        "adultTraining_data$caploss[abs(adultTraining_data$caploss - mean_loss) > 3 * sd_loss] <- NA\n",
        "adultTraining_data$capgain[abs(adultTraining_data$capgain - mean_gain) > 3 * sd_gain] <- NA\n",
        "\n",
        "# Impute NA values with the mean of the new set\n",
        "adultTraining_data$caploss[is.na(adultTraining_data$caploss)] <- mean(adultTraining_data$caploss, na.rm = TRUE)\n",
        "adultTraining_data$capgain[is.na(adultTraining_data$capgain)] <- mean(adultTraining_data$capgain, na.rm = TRUE)"
      ],
      "metadata": {
        "id": "03iuskBwNPtl"
      },
      "execution_count": null,
      "outputs": []
    },
    {
      "cell_type": "markdown",
      "source": [
        "Create a contingency table of workclass and sex, and plot it"
      ],
      "metadata": {
        "id": "JuVBVwRU3nWD"
      }
    },
    {
      "cell_type": "code",
      "source": [
        "# Create a contingency table of workclass and sex\n",
        "contingency_table <- table(adultTraining_data$workclass, adultTraining_data$sex)\n",
        "\n",
        "# Print the contingency table\n",
        "print(contingency_table)\n",
        "\n",
        "# Create a barplot of the contingency table\n",
        "barplot(contingency_table, beside = TRUE, legend = rownames(contingency_table),\n",
        "        xlab = \"Workclass\", ylab = \"Frequency\", main = \"Contingency Table of Workclass and Sex\")"
      ],
      "metadata": {
        "colab": {
          "base_uri": "https://localhost:8080/",
          "height": 628
        },
        "id": "ZSaTVsZ_QugK",
        "outputId": "4b0cbfaa-7e33-452a-fb3a-4b0139b6945d"
      },
      "execution_count": null,
      "outputs": [
        {
          "output_type": "stream",
          "name": "stdout",
          "text": [
            "                  \n",
            "                   Female Male\n",
            "  ?                   377  452\n",
            "  Federal-gov         149  305\n",
            "  Local-gov           377  592\n",
            "  Never-worked          1    4\n",
            "  Private            3574 6707\n",
            "  Self-emp-inc         54  444\n",
            "  Self-emp-not-inc    178  992\n",
            "  State-gov           201  385\n",
            "  Without-pay           1    4\n"
          ]
        },
        {
          "output_type": "display_data",
          "data": {
            "text/plain": [
              "Plot with title “Contingency Table of Workclass and Sex”"
            ],
            "image/png": "[encoded data removed]"
          },
          "metadata": {
            "image/png": {
              "width": 420,
              "height": 420
            }
          }
        }
      ]
    },
    {
      "cell_type": "markdown",
      "source": [
        "Create continegncy table for sex and marital status, and plot it"
      ],
      "metadata": {
        "id": "sHwuhOJx3yx_"
      }
    },
    {
      "cell_type": "code",
      "source": [
        "# Create a contingency table of sex and marital status\n",
        "contingency_table <- table(adultTraining_data$maritalstatus, adultTraining_data$sex)\n",
        "\n",
        "# Print the contingency table\n",
        "print(contingency_table)\n",
        "\n",
        "# Create a barplot of the contingency table\n",
        "barplot(contingency_table, beside = TRUE, legend = rownames(contingency_table),\n",
        "        xlab = \"Sex\", ylab = \"Frequency\", main = \"Contingency Table of Sex and Marital Status\")"
      ],
      "metadata": {
        "colab": {
          "base_uri": "https://localhost:8080/",
          "height": 593
        },
        "id": "2s_IP4xJQ7iP",
        "outputId": "43add84e-67a1-4b8e-eae0-4a0481d5757d"
      },
      "execution_count": null,
      "outputs": [
        {
          "output_type": "stream",
          "name": "stdout",
          "text": [
            "                       \n",
            "                        Female Male\n",
            "  Divorced                1219  795\n",
            "  Married-AF-spouse          7    4\n",
            "  Married-civ-spouse       761 6010\n",
            "  Married-spouse-absent     95  104\n",
            "  Never-married           2160 2717\n",
            "  Separated                290  182\n",
            "  Widowed                  380   73\n"
          ]
        },
        {
          "output_type": "display_data",
          "data": {
            "text/plain": [
              "Plot with title “Contingency Table of Sex and Marital Status”"
            ],
            "image/png": "[encoded data removed]"
          },
          "metadata": {
            "image/png": {
              "width": 420,
              "height": 420
            }
          }
        }
      ]
    },
    {
      "cell_type": "markdown",
      "source": [
        "Create a new dataframe for adults over 40"
      ],
      "metadata": {
        "id": "O-NLbXg_SLa-"
      }
    },
    {
      "cell_type": "code",
      "source": [
        "# Create a new data frame 'adultOver40' for individuals with age > 40\n",
        "adultOver40 <- adultTraining_data[adultTraining_data$age > 40, ]"
      ],
      "metadata": {
        "id": "kgGk8EErSG6L"
      },
      "execution_count": null,
      "outputs": []
    },
    {
      "cell_type": "markdown",
      "source": [
        "Recreate a contingency table of sex and martial status for adults over 40"
      ],
      "metadata": {
        "id": "Wi2Rnu5e4O44"
      }
    },
    {
      "cell_type": "code",
      "source": [
        "# Create a contingency table of sex and marital status for adultOver40\n",
        "contingency_table <- table(adultOver40$sex, adultOver40$maritalstatus)\n",
        "\n",
        "# Print the contingency table\n",
        "print(contingency_table)"
      ],
      "metadata": {
        "colab": {
          "base_uri": "https://localhost:8080/"
        },
        "id": "ln3mE8IiSRXH",
        "outputId": "c7d67a5b-c423-4776-872b-8ad5b4a4aa16"
      },
      "execution_count": null,
      "outputs": [
        {
          "output_type": "stream",
          "name": "stdout",
          "text": [
            "        \n",
            "         Divorced Married-civ-spouse Married-spouse-absent Never-married\n",
            "  Female      720                305                    38           256\n",
            "  Male        448               3383                    47           315\n",
            "        \n",
            "         Separated Widowed\n",
            "  Female       133     354\n",
            "  Male          74      71\n"
          ]
        }
      ]
    },
    {
      "cell_type": "markdown",
      "source": [
        "Determine weather any outliers exist for the education field"
      ],
      "metadata": {
        "id": "JvpUUJLO4Zmd"
      }
    },
    {
      "cell_type": "code",
      "source": [
        "# Calculate summary statistics for the \"education\" field\n",
        "summary_education <- summary(adultTraining_data$education)\n",
        "\n",
        "# Find the median and interquartile range (IQR)\n",
        "median_education <- median(adultTraining_data$education)\n",
        "q1_education <- quantile(adultTraining_data$education, 0.25)\n",
        "q3_education <- quantile(adultTraining_data$education, 0.75)\n",
        "iqr_education <- q3_education - q1_education\n",
        "\n",
        "# Calculate potential outlier thresholds\n",
        "lower_threshold <- q1_education - 1.5 * iqr_education\n",
        "upper_threshold <- q3_education + 1.5 * iqr_education\n",
        "\n",
        "# Check for potential outliers\n",
        "outliers_education <- adultTraining_data$education[adultTraining_data$education < lower_threshold | adultTraining_data$education > upper_threshold]\n",
        "\n",
        "# Print summary statistics and potential outliers\n",
        "print(summary_education)\n",
        "cat(\"Median:\", median_education, \"\\n\")\n",
        "cat(\"Lower Threshold:\", lower_threshold, \"\\n\")\n",
        "cat(\"Upper Threshold:\", upper_threshold, \"\\n\")\n",
        "cat(\"Potential Outliers:\", length(outliers_education), \"\\n\")\n",
        "\n",
        "# If needed, you can print the potential outlier values themselves\n",
        "# print(outliers_education)"
      ],
      "metadata": {
        "colab": {
          "base_uri": "https://localhost:8080/"
        },
        "id": "lywVlcK5SaNm",
        "outputId": "e938bf50-d441-4bc7-f909-5a17a0c2d20c"
      },
      "execution_count": null,
      "outputs": [
        {
          "output_type": "stream",
          "name": "stdout",
          "text": [
            "   Min. 1st Qu.  Median    Mean 3rd Qu.    Max. \n",
            "   1.00    9.00   10.00   10.07   12.00   16.00 \n",
            "Median: 10 \n",
            "Lower Threshold: 4.5 \n",
            "Upper Threshold: 16.5 \n",
            "Potential Outliers: 552 \n"
          ]
        }
      ]
    },
    {
      "cell_type": "markdown",
      "source": [
        "Standardize (zero mean) the age variable, and identify how many outliers there are. Identify the msot extreme outlier"
      ],
      "metadata": {
        "id": "v7q_DJa24nT5"
      }
    },
    {
      "cell_type": "code",
      "source": [
        "# Standardize the \"age\" variable\n",
        "z_scores <- scale(adultTraining_data$age)\n",
        "\n",
        "# Identify outliers (values beyond 3 standard deviations from the mean)\n",
        "outliers <- which(abs(z_scores) > 3)\n",
        "\n",
        "# Calculate the number of outliers\n",
        "num_outliers <- length(outliers)\n",
        "\n",
        "# Find the most extreme outlier\n",
        "most_extreme_outlier <- adultTraining_data$age[outliers[which.max(abs(z_scores[outliers]))]]\n",
        "\n",
        "# Print the results\n",
        "cat(\"Number of outliers:\", num_outliers, \"\\n\")\n",
        "cat(\"Most extreme outlier:\", most_extreme_outlier, \"\\n\")"
      ],
      "metadata": {
        "colab": {
          "base_uri": "https://localhost:8080/"
        },
        "id": "90xS3ktcS9O-",
        "outputId": "3ad14943-e1ce-463a-d07a-85d768855393"
      },
      "execution_count": null,
      "outputs": [
        {
          "output_type": "stream",
          "name": "stdout",
          "text": [
            "Number of outliers: 60 \n",
            "Most extreme outlier: 90 \n"
          ]
        }
      ]
    },
    {
      "cell_type": "code",
      "source": [
        "# Select records with age at least 80\n",
        "age_anomaly_data <- adultTraining_data[adultTraining_data$age >= 80, ]\n",
        "\n",
        "# Create a histogram of age\n",
        "hist(age_anomaly_data$age,\n",
        "     main = \"Histogram of Age (Age Anomaly)\",\n",
        "     xlab = \"Age\",\n",
        "     ylab = \"Frequency\",\n",
        "     col = \"skyblue\",\n",
        "     border = \"black\",\n",
        "     breaks = seq(80, 90, length.out = 11))"
      ],
      "metadata": {
        "colab": {
          "base_uri": "https://localhost:8080/",
          "height": 437
        },
        "id": "dyg5RAtrTFgm",
        "outputId": "61aa15c9-427d-4201-a355-5b0626628a8a"
      },
      "execution_count": null,
      "outputs": [
        {
          "output_type": "display_data",
          "data": {
            "text/plain": [
              "Plot with title “Histogram of Age (Age Anomaly)”"
            ],
            "image/png": "[encoded data removed]"
          },
          "metadata": {
            "image/png": {
              "width": 420,
              "height": 420
            }
          }
        }
      ]
    },
    {
      "cell_type": "markdown",
      "source": [
        "There seems to be a general decline in frequency of individuals over 80 as each year in age increases, other than age 90. In addition, there seems to be no records of individuals 89 years old.\n",
        "\n",
        "---\n",
        "\n",
        "In conclusion, it is important to standardize the numeric values as it makes it much easier to identify outliers. Although for certain values, like age, when trying to plot the records of individuals above a specific age, it is easier to use the unchanged age value. For education, no outliers existed in the dataframe for individuals above 40. This was discovered with a manual calculation and did not need a query. Lastly, as previously mentioned, there were no records of individuals aged 89 while a abnormaly high frequency of individuals aged 90."
      ],
      "metadata": {
        "id": "9YnYoPQQTiq3"
      }
    }
  ]
}