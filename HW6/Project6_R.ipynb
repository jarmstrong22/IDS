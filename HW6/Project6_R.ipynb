{
  "cells": [
    {
      "cell_type": "markdown",
      "metadata": {
        "id": "view-in-github",
        "colab_type": "text"
      },
      "source": [
        "<a href=\"https://colab.research.google.com/github/jarmstrong22/IDS/blob/main/HW6/Project6_R.ipynb\" target=\"_parent\"><img src=\"https://colab.research.google.com/assets/colab-badge.svg\" alt=\"Open In Colab\"/></a>"
      ]
    },
    {
      "cell_type": "markdown",
      "source": [
        "#Name: **Project6_R**\n",
        "#Author: Jaden\n",
        "#Date: 12/11/2023"
      ],
      "metadata": {
        "id": "1QKh6cKnnV7R"
      }
    },
    {
      "cell_type": "code",
      "source": [
        "install.packages(\"rpart\")\n",
        "install.packages(\"rpart.plot\")\n",
        "install.packages(\"C50\")"
      ],
      "metadata": {
        "colab": {
          "base_uri": "https://localhost:8080/"
        },
        "id": "Ohqkc8Iqi16n",
        "outputId": "863dc74f-81b4-4f65-e707-5ecbaa09ab12"
      },
      "execution_count": 1,
      "outputs": [
        {
          "output_type": "stream",
          "name": "stderr",
          "text": [
            "Installing package into ‘/usr/local/lib/R/site-library’\n",
            "(as ‘lib’ is unspecified)\n",
            "\n",
            "Installing package into ‘/usr/local/lib/R/site-library’\n",
            "(as ‘lib’ is unspecified)\n",
            "\n",
            "Installing package into ‘/usr/local/lib/R/site-library’\n",
            "(as ‘lib’ is unspecified)\n",
            "\n"
          ]
        }
      ]
    },
    {
      "cell_type": "code",
      "execution_count": 2,
      "metadata": {
        "id": "A100OOjq_rgV"
      },
      "outputs": [],
      "source": [
        "# Load required libraries\n",
        "library(rpart)\n",
        "library(rpart.plot)\n",
        "library(C50)"
      ]
    },
    {
      "cell_type": "code",
      "execution_count": 4,
      "metadata": {
        "id": "dQf4kJUGCcOW"
      },
      "outputs": [],
      "source": [
        "# Load training data\n",
        "loan_test <- read.csv(\"https://raw.githubusercontent.com/bforoura/IDS/main/HW6/Loans_Test.csv\")\n",
        "loans_training <- read.csv(\"https://raw.githubusercontent.com/bforoura/IDS/main/HW6/Loans_Training.csv\")"
      ]
    },
    {
      "cell_type": "code",
      "execution_count": 5,
      "metadata": {
        "id": "W_FONwFhEdZU"
      },
      "outputs": [],
      "source": [
        "# Convert 'Approval' to a factor\n",
        "loans_training$Approval <- as.factor(loans_training$Approval)"
      ]
    },
    {
      "cell_type": "code",
      "execution_count": 6,
      "metadata": {
        "id": "hjzxhstXDeF3",
        "colab": {
          "base_uri": "https://localhost:8080/",
          "height": 437
        },
        "outputId": "1e82b9e4-98e6-4d55-b2d5-4a7714fbe75b"
      },
      "outputs": [
        {
          "output_type": "display_data",
          "data": {
            "text/plain": [
              "plot without title"
            ],
            "image/png": "[encoded data removed]"
          },
          "metadata": {
            "image/png": {
              "width": 420,
              "height": 420
            }
          }
        }
      ],
      "source": [
        "# Create and train CART model\n",
        "cart_model <- rpart(Approval ~ Debt.to.Income.Ratio + FICO.Score + Request.Amount + Interest, data = loans_training, method = \"class\")\n",
        "\n",
        "# Visualize the decision tree\n",
        "plot(cart_model)\n",
        "text(cart_model, cex = 0.8)\n"
      ]
    },
    {
      "cell_type": "code",
      "execution_count": 7,
      "metadata": {
        "id": "DbwcOsLBEGEr",
        "colab": {
          "base_uri": "https://localhost:8080/"
        },
        "outputId": "2a0e6dae-73b3-47b4-840c-60c6c764fe49"
      },
      "outputs": [
        {
          "output_type": "stream",
          "name": "stdout",
          "text": [
            "                   var      n     wt   dev yval complexity ncompete nsurrogate\n",
            "1           FICO.Score 150302 150302 75066    2  0.5646498        3          3\n",
            "2               <leaf>  46002  46002  1808    1  0.0000000        0          0\n",
            "3 Debt.to.Income.Ratio 104300 104300 30872    2  0.1267551        3          0\n",
            "6               <leaf>  12873  12873  1679    1  0.0000000        0          0\n",
            "7               <leaf>  91427  91427 19678    2  0.0000000        0          0\n",
            "      yval2.V1     yval2.V2     yval2.V3     yval2.V4     yval2.V5\n",
            "1 2.000000e+00 7.506600e+04 7.523600e+04 4.994345e-01 5.005655e-01\n",
            "2 1.000000e+00 4.419400e+04 1.808000e+03 9.606974e-01 3.930264e-02\n",
            "3 2.000000e+00 3.087200e+04 7.342800e+04 2.959923e-01 7.040077e-01\n",
            "6 1.000000e+00 1.119400e+04 1.679000e+03 8.695720e-01 1.304280e-01\n",
            "7 2.000000e+00 1.967800e+04 7.174900e+04 2.152318e-01 7.847682e-01\n",
            "  yval2.nodeprob\n",
            "1   1.000000e+00\n",
            "2   3.060638e-01\n",
            "3   6.939362e-01\n",
            "6   8.564756e-02\n",
            "7   6.082886e-01\n"
          ]
        }
      ],
      "source": [
        "# Print the decision tree details\n",
        "print(cart_model$frame[1:5, ])"
      ]
    },
    {
      "cell_type": "code",
      "execution_count": 8,
      "metadata": {
        "id": "OOVEXFUYDv5q",
        "colab": {
          "base_uri": "https://localhost:8080/",
          "height": 1000
        },
        "outputId": "9da82918-88fb-4eed-d160-2884272efcbe"
      },
      "outputs": [
        {
          "output_type": "display_data",
          "data": {
            "text/plain": [
              "\n",
              "Call:\n",
              "C5.0.formula(formula = Approval ~ Debt.to.Income.Ratio + FICO.Score\n",
              " + Request.Amount + Interest, data = loans_training, control\n",
              " = C5.0Control(minCases = 1000))\n",
              "\n",
              "\n",
              "C5.0 [Release 2.07 GPL Edition]  \tTue Dec 12 01:04:06 2023\n",
              "-------------------------------\n",
              "\n",
              "Class specified by attribute `outcome'\n",
              "\n",
              "Read 150302 cases (5 attributes) from undefined.data\n",
              "\n",
              "Decision tree:\n",
              "\n",
              "Debt.to.Income.Ratio > 0.31: FALSE (19884/1160)\n",
              "Debt.to.Income.Ratio <= 0.31:\n",
              ":...FICO.Score <= 655: FALSE (35346/894)\n",
              "    FICO.Score > 655:\n",
              "    :...FICO.Score <= 669:\n",
              "        :...Request.Amount > 23000: FALSE (1547/529)\n",
              "        :   Request.Amount <= 23000:\n",
              "        :   :...FICO.Score <= 661: FALSE (3246/1418)\n",
              "        :       FICO.Score > 661: TRUE (5892/2056)\n",
              "        FICO.Score > 669:\n",
              "        :...Debt.to.Income.Ratio <= 0.25: TRUE (75846/13356)\n",
              "            Debt.to.Income.Ratio > 0.25:\n",
              "            :...Request.Amount <= 25000: TRUE (7112/2658)\n",
              "                Request.Amount > 25000: FALSE (1429/455)\n",
              "\n",
              "\n",
              "Evaluation on training data (150302 cases):\n",
              "\n",
              "\t    Decision Tree   \n",
              "\t  ----------------  \n",
              "\t  Size      Errors  \n",
              "\n",
              "\t     8 22526(15.0%)   <<\n",
              "\n",
              "\n",
              "\t   (a)   (b)    <-classified as\n",
              "\t  ----  ----\n",
              "\t 56996 18070    (a): class FALSE\n",
              "\t  4456 70780    (b): class TRUE\n",
              "\n",
              "\n",
              "\tAttribute usage:\n",
              "\n",
              "\t100.00%\tDebt.to.Income.Ratio\n",
              "\t 86.77%\tFICO.Score\n",
              "\t 12.79%\tRequest.Amount\n",
              "\n",
              "\n",
              "Time: 0.4 secs\n"
            ]
          },
          "metadata": {}
        },
        {
          "output_type": "stream",
          "name": "stdout",
          "text": [
            "CART Model Accuracy: 0.845877 \n",
            "C5.0 Model Accuracy: 0.8501284 \n"
          ]
        }
      ],
      "source": [
        "# Train C5.0 model\n",
        "c50_model <- C5.0(Approval ~ Debt.to.Income.Ratio + FICO.Score + Request.Amount + Interest, data = loans_training, control = C5.0Control(minCases = 1000))\n",
        "\n",
        "# To see the first few splits in C5.0 model\n",
        "summary(c50_model)\n",
        "\n",
        "# Compare models\n",
        "# You can compare the performance metrics, such as accuracy, of both models on the training set or use cross-validation.\n",
        "# For example:\n",
        "cart_predictions <- predict(cart_model, loans_training, type = \"class\")\n",
        "c50_predictions <- predict(c50_model, loans_training)\n",
        "\n",
        "# Compare accuracy\n",
        "cart_accuracy <- sum(cart_predictions == loans_training$Approval) / nrow(loans_training)\n",
        "c50_accuracy <- sum(c50_predictions == loans_training$Approval) / nrow(loans_training)\n",
        "\n",
        "cat(\"CART Model Accuracy:\", cart_accuracy, \"\\n\")\n",
        "cat(\"C5.0 Model Accuracy:\", c50_accuracy, \"\\n\")"
      ]
    },
    {
      "cell_type": "markdown",
      "source": [
        "**Analysis and Conclusion**\n",
        "\n",
        "---\n",
        "\n"
      ],
      "metadata": {
        "id": "x_9xvSWYkI2r"
      }
    },
    {
      "cell_type": "markdown",
      "source": [
        "The first split in the CART model indicates that a Debt-to-Income Ratio greater than 0.3` predicts a  loan denial (FALSE), leading to 1,160 misclassified cases among 19,884. Conversely, the second split emerges for cases with a Debt-to-Income Ratio less than or equal to 0.31, directing attention to the FICO Score. The third split in this branch classifies cases with a FICO Score less than or equal to 655 as loan denials, resulting in 894 misclassifications among 35,346 cases."
      ],
      "metadata": {
        "id": "74lyba5vkPoN"
      }
    },
    {
      "cell_type": "markdown",
      "source": [
        "**Comparative Analysis**\n",
        "\n",
        "---\n",
        "\n"
      ],
      "metadata": {
        "id": "hrd11VzzkZpJ"
      }
    },
    {
      "cell_type": "markdown",
      "source": [
        "**Similarities:**\n",
        "Target Variable: Both CART and C5.0 models share a common target variable, predicting the approval status of the loan\n",
        "Predictors: Consistency exists in the set of predictors used by both models, encompassing \"Debt-to-Income Ratio, \"Fico Score\", and \"Request Amount\"\n",
        "**Differences**\n",
        "Algorithm: The primary distinction arises from the underlying algorithm. CART utilizes a recursive binary split approach, whereas C5.0 employs a different algorithm for decision tree construction.\n",
        "Minimum Cases per Terminal Node: While the CART model does not specify a minimum number of cases per terminal node, the C5.0 model imposes a minimum requirement of 1,000 cases per terminal node during construction."
      ],
      "metadata": {
        "id": "qaVmvr-Xki15"
      }
    },
    {
      "cell_type": "markdown",
      "source": [
        "**Conclusion**:\n",
        "In summary, both CART and C5.0 models exhibit differences significantly in the algorithm employed, minimum cases per terminal node, and the structure of their decision trees. Understanding these distinctions is crucial for informed model selection and optimization in the domain of loan approval prediction. Both regardless of their differences arrived at a solution that is close to each other."
      ],
      "metadata": {
        "id": "LqhK0GMxlHtr"
      }
    }
  ],
  "metadata": {
    "colab": {
      "provenance": [],
      "authorship_tag": "ABX9TyP7j2+MfzVlgSQCje1hlNmF",
      "include_colab_link": true
    },
    "kernelspec": {
      "display_name": "R",
      "name": "ir"
    },
    "language_info": {
      "name": "R"
    }
  },
  "nbformat": 4,
  "nbformat_minor": 0
}